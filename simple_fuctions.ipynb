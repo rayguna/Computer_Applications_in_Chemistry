{
  "nbformat": 4,
  "nbformat_minor": 0,
  "metadata": {
    "colab": {
      "provenance": [],
      "toc_visible": true
    },
    "kernelspec": {
      "name": "python3",
      "display_name": "Python 3"
    },
    "language_info": {
      "name": "python"
    }
  },
  "cells": [
    {
      "cell_type": "markdown",
      "source": [
        "# Scope :\n",
        "\n",
        "1. Basic python function (example 1)\n",
        "2. Basic python function (example 2)\n",
        "\n",
        "***"
      ],
      "metadata": {
        "id": "ixf-wxhzJAgh"
      }
    },
    {
      "cell_type": "markdown",
      "source": [
        "# 1. Basic python functions (example 1)\n",
        "- name is a verb"
      ],
      "metadata": {
        "id": "yU1X2VO1JKv4"
      }
    },
    {
      "cell_type": "code",
      "source": [
        "def calculate_density(mass, volume):\n",
        "  \"\"\"\n",
        "  Calculate the density of a substance.\n",
        "  Inputs:\n",
        "  - mass: mass of the substance in g\n",
        "  - volume: volume of the substance in cm^3\n",
        "  Returns:\n",
        "  - density: density of the substance in g/cm^3\n",
        "  \"\"\"\n",
        "\n",
        "  density = mass / volume\n",
        "\n",
        "  return round(density, 2)\n",
        "\n",
        "\n",
        "\n",
        "#Calculate density\n",
        "\n",
        "print(f\"The density of the substance is {round(calculate_density(55, 6))} g/cm^3\")"
      ],
      "metadata": {
        "colab": {
          "base_uri": "https://localhost:8080/"
        },
        "id": "qvmbTnluJP2o",
        "outputId": "92f2f384-3fac-4a2f-a391-eef89a2acc74"
      },
      "execution_count": null,
      "outputs": [
        {
          "output_type": "stream",
          "name": "stdout",
          "text": [
            "The density of the substance is 9 g/cm^3\n"
          ]
        }
      ]
    },
    {
      "cell_type": "markdown",
      "source": [
        "# 2. Basic python function (example 2)\n",
        "- The inputs have pre-defined values\n",
        "- Returns multiple outputs"
      ],
      "metadata": {
        "id": "R_kB4JsFJXp5"
      }
    },
    {
      "cell_type": "code",
      "source": [
        "def calculate_moles_and_mass_of_B(mass_A, molar_mass_A, stoichiometric_A_to_B_ratio=1):\n",
        "  \"\"\"\n",
        "  Calculate the number of moles of B in a reaction.\n",
        "  Inputs:\n",
        "  - mass_A: mass of A in g\n",
        "  - molar_mass_A: molar mass of A in g/mol\n",
        "  - stoichiometric_A_to_B_ratio: stoichiometric ratio of A to B\n",
        "  \"\"\"\n",
        "\n",
        "  # moles of B\n",
        "  moles_B= mass_A / (molar_mass_A * stoichiometric_A_to_B_ratio)\n",
        "  # mass of B\n",
        "  mass_B = moles_B * molar_mass_A\n",
        "\n",
        "  return moles_B, mass_B\n",
        "\n",
        "  # 2 H2 (g) + O2 (g) -> 2 H2O (l);  A = Hydrogen, B = Water\n",
        "\n",
        "\n",
        "  print(calculate_moles_and_mass_of_B(10, 2))\n",
        "\n"
      ],
      "metadata": {
        "id": "f5J86YXhKpdh"
      },
      "execution_count": null,
      "outputs": []
    },
    {
      "cell_type": "code",
      "source": [
        "def calculate_moles_and_mass_of_B(mass_A, molar_mass_A, stoichiometric_A_to_B_ratio=1):\n",
        "  \"\"\"\n",
        "  Calculate the number of moles of B in a reaction.\n",
        "  Inputs:\n",
        "  - mass_A: mass of A in g\n",
        "  - molar_mass_A: molar mass of A in g/mol\n",
        "  - stoichiometric_A_to_B_ratio: stoichiometric ratio of A to B\n",
        "  \"\"\"\n",
        "\n",
        "  # moles of B\n",
        "  moles_B = mass_A / (molar_mass_A * stoichiometric_A_to_B_ratio)\n",
        "  # mass of B\n",
        "  mass_B = moles_B * molar_mass_A\n",
        "\n",
        "\n",
        "  return moles_B, mass_B\n",
        "\n",
        "# 2 H2 (g) + O2 (g) -> 2 H2O (l);  A = Hydrogen, B = Water\n",
        "output = calculate_moles_and_mass_of_B(10, 2)\n",
        "\n",
        "print(\"The moles of B is %s mol\" %(output[0]))\n",
        "print(\"The mass of B is %s g\" %(output[1]))\n",
        "\n",
        "print(\"The moles of A is %s mol and the mass of B is %s g\" %(output[0], output[1]))\n"
      ],
      "metadata": {
        "colab": {
          "base_uri": "https://localhost:8080/"
        },
        "id": "OgE3T8cPM5qS",
        "outputId": "9564da44-a516-4c4c-f68a-a3f1a1511a76"
      },
      "execution_count": null,
      "outputs": [
        {
          "output_type": "stream",
          "name": "stdout",
          "text": [
            "The moles of B is 5.0 mol\n",
            "The mass of B is 10.0 g\n",
            "The moles of A is 5.0 mol and the mass of B is 10.0 g\n"
          ]
        }
      ]
    }
  ]
}