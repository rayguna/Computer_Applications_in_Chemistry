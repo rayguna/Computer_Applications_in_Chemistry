{
  "nbformat": 4,
  "nbformat_minor": 0,
  "metadata": {
    "colab": {
      "provenance": [],
      "toc_visible": true
    },
    "kernelspec": {
      "name": "python3",
      "display_name": "Python 3"
    },
    "language_info": {
      "name": "python"
    }
  },
  "cells": [
    {
      "cell_type": "code",
      "source": [
        "!pip install rdkit"
      ],
      "metadata": {
        "colab": {
          "base_uri": "https://localhost:8080/"
        },
        "id": "bWL7qbIVa7_b",
        "outputId": "d0c9b119-2c40-45e2-9c29-a8f8c30067a8"
      },
      "execution_count": 2,
      "outputs": [
        {
          "output_type": "stream",
          "name": "stdout",
          "text": [
            "Collecting rdkit\n",
            "  Downloading rdkit-2025.9.1-cp312-cp312-manylinux_2_28_x86_64.whl.metadata (4.1 kB)\n",
            "Requirement already satisfied: numpy in /usr/local/lib/python3.12/dist-packages (from rdkit) (2.0.2)\n",
            "Requirement already satisfied: Pillow in /usr/local/lib/python3.12/dist-packages (from rdkit) (11.3.0)\n",
            "Downloading rdkit-2025.9.1-cp312-cp312-manylinux_2_28_x86_64.whl (36.2 MB)\n",
            "\u001b[2K   \u001b[90m━━━━━━━━━━━━━━━━━━━━━━━━━━━━━━━━━━━━━━━━\u001b[0m \u001b[32m36.2/36.2 MB\u001b[0m \u001b[31m30.2 MB/s\u001b[0m eta \u001b[36m0:00:00\u001b[0m\n",
            "\u001b[?25hInstalling collected packages: rdkit\n",
            "Successfully installed rdkit-2025.9.1\n"
          ]
        }
      ]
    },
    {
      "cell_type": "code",
      "source": [
        "!pip install quantities"
      ],
      "metadata": {
        "colab": {
          "base_uri": "https://localhost:8080/"
        },
        "id": "cTBrs8DRAdxP",
        "outputId": "362de445-61d8-4ac5-ba27-2d09ce919f9b"
      },
      "execution_count": 17,
      "outputs": [
        {
          "output_type": "stream",
          "name": "stdout",
          "text": [
            "Collecting quantities\n",
            "  Downloading quantities-0.16.2-py3-none-any.whl.metadata (8.4 kB)\n",
            "Requirement already satisfied: numpy>=1.20 in /usr/local/lib/python3.12/dist-packages (from quantities) (2.0.2)\n",
            "Downloading quantities-0.16.2-py3-none-any.whl (103 kB)\n",
            "\u001b[?25l   \u001b[90m━━━━━━━━━━━━━━━━━━━━━━━━━━━━━━━━━━━━━━━━\u001b[0m \u001b[32m0.0/103.0 kB\u001b[0m \u001b[31m?\u001b[0m eta \u001b[36m-:--:--\u001b[0m\r\u001b[2K   \u001b[90m━━━━━━━━━━━━━━━━━━━━━━━━━━━━━━━━━━━━━━━━\u001b[0m \u001b[32m103.0/103.0 kB\u001b[0m \u001b[31m3.5 MB/s\u001b[0m eta \u001b[36m0:00:00\u001b[0m\n",
            "\u001b[?25hInstalling collected packages: quantities\n",
            "Successfully installed quantities-0.16.2\n"
          ]
        }
      ]
    },
    {
      "cell_type": "markdown",
      "source": [],
      "metadata": {
        "id": "H_tPmKgRAg0X"
      }
    },
    {
      "cell_type": "markdown",
      "source": [
        "# Define Compounds"
      ],
      "metadata": {
        "id": "pFrCgleOAhVD"
      }
    },
    {
      "cell_type": "code",
      "execution_count": 10,
      "metadata": {
        "colab": {
          "base_uri": "https://localhost:8080/",
          "height": 167
        },
        "id": "wV-FcTN7az0P",
        "outputId": "b84a8b55-8985-4ddd-da80-fccc98a85d1b"
      },
      "outputs": [
        {
          "output_type": "execute_result",
          "data": {
            "text/plain": [
              "<rdkit.Chem.rdchem.Mol at 0x7cf7b1246ce0>"
            ],
            "image/png": "[encoded data removed]"
          },
          "metadata": {},
          "execution_count": 10
        }
      ],
      "source": [
        "from rdkit import Chem\n",
        "\n",
        "#create hydrocarbons\n",
        "butane = Chem.MolFromSmiles(\"CCCC\")\n",
        "butane\n"
      ]
    },
    {
      "cell_type": "code",
      "source": [
        "from rdkit import Chem\n",
        "\n",
        "# create sodium chloride\n",
        "na_cl = Chem.MolFromSmiles(\"[Na+].[Cl-]\")\n",
        "na_cl"
      ],
      "metadata": {
        "colab": {
          "base_uri": "https://localhost:8080/",
          "height": 167
        },
        "id": "l_9GV7CX_RRO",
        "outputId": "be3e36bd-0dc9-4f37-f7ba-8f950d2ce39b"
      },
      "execution_count": 23,
      "outputs": [
        {
          "output_type": "execute_result",
          "data": {
            "text/plain": [
              "<rdkit.Chem.rdchem.Mol at 0x7cf795aa2500>"
            ],
            "image/png": "[encoded data removed]"
          },
          "metadata": {},
          "execution_count": 23
        }
      ]
    },
    {
      "cell_type": "markdown",
      "source": [],
      "metadata": {
        "id": "W0RCdQcd_0na"
      }
    },
    {
      "cell_type": "markdown",
      "source": [
        "# Get Molar Mass"
      ],
      "metadata": {
        "id": "Z-1MamM__1pu"
      }
    },
    {
      "cell_type": "code",
      "source": [
        "from rdkit.Chem import Descriptors\n",
        "import quantities as pq\n",
        "\n",
        "print(\"Butane: %s\" %round(Descriptors.MolWt(butane)*pq.gram/pq.mol,2))\n",
        "print(\"NaCl: %s\" %round(Descriptors.MolWt(na_cl)*pq.gram/pq.mol,2))\n"
      ],
      "metadata": {
        "colab": {
          "base_uri": "https://localhost:8080/"
        },
        "id": "4aX2EGVn_zk9",
        "outputId": "07fed5ac-9bff-4d8e-8b87-4eee2f91a873"
      },
      "execution_count": 26,
      "outputs": [
        {
          "output_type": "stream",
          "name": "stdout",
          "text": [
            "Butane: 58.12 g/mol\n",
            "NaCl: 58.44 g/mol\n"
          ]
        }
      ]
    }
  ]
}