{
  "nbformat": 4,
  "nbformat_minor": 0,
  "metadata": {
    "colab": {
      "provenance": [],
      "toc_visible": true
    },
    "kernelspec": {
      "name": "python3",
      "display_name": "Python 3"
    },
    "language_info": {
      "name": "python"
    }
  },
  "cells": [
    {
      "cell_type": "markdown",
      "source": [
        "# Scope:\n",
        "\n",
        "- Use markdown and latex syntax to format text and to format formulas and symbols within the text editor.\n",
        "- Use built-in python functions and import numpy to perform basic calculations.\n",
        "\n",
        "***"
      ],
      "metadata": {
        "id": "NQ_M6_IKlfCy"
      }
    },
    {
      "cell_type": "markdown",
      "source": [
        "# - Use markdown and latex syntax to format text and to format formulas and symbols within the text editor.\n",
        "\n",
        "## Lab #1 Measurements and Density\n",
        "- Part A\n",
        "- Part B"
      ],
      "metadata": {
        "id": "GgGGCm8eLsEI"
      }
    },
    {
      "cell_type": "markdown",
      "source": [
        "Formulas:\n",
        "- Density: $\\rho$ = $\\frac{m}{V}$"
      ],
      "metadata": {
        "id": "W8wwa3pQMoZp"
      }
    },
    {
      "cell_type": "markdown",
      "source": [
        "# - Use built-in python functions and import numpy to perform basic calculations.\n",
        "\n",
        "Part A\n",
        "- Measure mass of empty beaker using dfferent balances.\n",
        "\n"
      ],
      "metadata": {
        "id": "yaULEfKMMJPP"
      }
    },
    {
      "cell_type": "code",
      "source": [
        "m1 = 5.2344\n",
        "m2 = 5.4861\n",
        "m3 = 5.1215\n",
        "\n",
        "m_avg = (m1 + m2 + m3)/3\n",
        "print(round(m_avg,2))"
      ],
      "metadata": {
        "colab": {
          "base_uri": "https://localhost:8080/"
        },
        "id": "arOunoicNhlC",
        "outputId": "5bd736d3-b3fb-45c5-f61d-fb27e81edfa2"
      },
      "execution_count": null,
      "outputs": [
        {
          "output_type": "stream",
          "name": "stdout",
          "text": [
            "5.28\n"
          ]
        }
      ]
    },
    {
      "cell_type": "markdown",
      "source": [],
      "metadata": {
        "id": "bLP3B136mbET"
      }
    },
    {
      "cell_type": "code",
      "source": [
        "import numpy as np\n",
        "\n",
        "data = [m1, m2, m3]\n",
        "sample_std_dev = np.std(data, ddof=1)\n",
        "print(f\"Sample standard deviation: {round(sample_std_dev,2)}\")"
      ],
      "metadata": {
        "colab": {
          "base_uri": "https://localhost:8080/"
        },
        "id": "SLy9yG4ZOKDx",
        "outputId": "8af20f82-0acf-4494-9bb9-509067f71008"
      },
      "execution_count": null,
      "outputs": [
        {
          "output_type": "stream",
          "name": "stdout",
          "text": [
            "Sample standard deviation: 0.19\n"
          ]
        }
      ]
    },
    {
      "cell_type": "markdown",
      "source": [
        "***"
      ],
      "metadata": {
        "id": "qtgtyjWPmr2y"
      }
    }
  ]
}