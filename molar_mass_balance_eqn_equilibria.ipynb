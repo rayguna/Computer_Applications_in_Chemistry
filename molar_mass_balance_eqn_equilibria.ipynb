{
  "nbformat": 4,
  "nbformat_minor": 0,
  "metadata": {
    "colab": {
      "provenance": []
    },
    "kernelspec": {
      "name": "python3",
      "display_name": "Python 3"
    },
    "language_info": {
      "name": "python"
    }
  },
  "cells": [
    {
      "cell_type": "markdown",
      "source": [
        "# Table of Contents\n",
        "\n",
        "1. Calculate Molar Mass\n",
        "2. Balance Chemical Equation\n",
        "3. Chemical Equilibria\n",
        "\n",
        "ref.: https://pypi.org/project/chempy/#toc-entry-6"
      ],
      "metadata": {
        "id": "Pyw_4vxeZL04"
      }
    },
    {
      "cell_type": "markdown",
      "source": [
        "***"
      ],
      "metadata": {
        "id": "hCBfJgGbZb5w"
      }
    },
    {
      "cell_type": "code",
      "source": [
        "!pip install chempy"
      ],
      "metadata": {
        "colab": {
          "base_uri": "https://localhost:8080/"
        },
        "id": "MMrcrIesZ9XR",
        "outputId": "60013e84-f188-4a7f-9b74-b583f9339c71"
      },
      "execution_count": 3,
      "outputs": [
        {
          "output_type": "stream",
          "name": "stdout",
          "text": [
            "Collecting chempy\n",
            "  Downloading chempy-0.9.0.tar.gz (184 kB)\n",
            "\u001b[?25l     \u001b[90m━━━━━━━━━━━━━━━━━━━━━━━━━━━━━━━━━━━━━━━━\u001b[0m \u001b[32m0.0/184.7 kB\u001b[0m \u001b[31m?\u001b[0m eta \u001b[36m-:--:--\u001b[0m\r\u001b[2K     \u001b[91m━━━━━━━━━━━━━━━━━━━━━━━━━━━━━━━\u001b[0m\u001b[90m╺\u001b[0m\u001b[90m━━━━━━━━\u001b[0m \u001b[32m143.4/184.7 kB\u001b[0m \u001b[31m4.9 MB/s\u001b[0m eta \u001b[36m0:00:01\u001b[0m\r\u001b[2K     \u001b[90m━━━━━━━━━━━━━━━━━━━━━━━━━━━━━━━━━━━━━━━━\u001b[0m \u001b[32m184.7/184.7 kB\u001b[0m \u001b[31m3.5 MB/s\u001b[0m eta \u001b[36m0:00:00\u001b[0m\n",
            "\u001b[?25h  Preparing metadata (setup.py) ... \u001b[?25l\u001b[?25hdone\n",
            "Requirement already satisfied: numpy>1.11.3 in /usr/local/lib/python3.10/dist-packages (from chempy) (1.26.4)\n",
            "Requirement already satisfied: scipy>=1.0.1 in /usr/local/lib/python3.10/dist-packages (from chempy) (1.13.1)\n",
            "Requirement already satisfied: matplotlib>=2.2.3 in /usr/local/lib/python3.10/dist-packages (from chempy) (3.7.1)\n",
            "Requirement already satisfied: sympy!=1.2,>=1.1.1 in /usr/local/lib/python3.10/dist-packages (from chempy) (1.13.3)\n",
            "Collecting quantities>=0.12.1 (from chempy)\n",
            "  Downloading quantities-0.16.1-py3-none-any.whl.metadata (8.4 kB)\n",
            "Collecting pyneqsys>=0.5.5 (from chempy)\n",
            "  Downloading pyneqsys-0.5.7.tar.gz (29 kB)\n",
            "  Preparing metadata (setup.py) ... \u001b[?25l\u001b[?25hdone\n",
            "Collecting pyodesys>=0.14.4 (from chempy)\n",
            "  Downloading pyodesys-0.14.4.tar.gz (107 kB)\n",
            "\u001b[2K     \u001b[90m━━━━━━━━━━━━━━━━━━━━━━━━━━━━━━━━━━━━━━━━\u001b[0m \u001b[32m107.9/107.9 kB\u001b[0m \u001b[31m7.4 MB/s\u001b[0m eta \u001b[36m0:00:00\u001b[0m\n",
            "\u001b[?25h  Preparing metadata (setup.py) ... \u001b[?25l\u001b[?25hdone\n",
            "Requirement already satisfied: pyparsing>=2.0.3 in /usr/local/lib/python3.10/dist-packages (from chempy) (3.2.0)\n",
            "Collecting sym>=0.3.4 (from chempy)\n",
            "  Downloading sym-0.3.5.tar.gz (31 kB)\n",
            "  Preparing metadata (setup.py) ... \u001b[?25l\u001b[?25hdone\n",
            "Collecting pulp>=1.6.8 (from chempy)\n",
            "  Downloading PuLP-2.9.0-py3-none-any.whl.metadata (5.4 kB)\n",
            "Collecting dot2tex>=2.11.3 (from chempy)\n",
            "  Downloading dot2tex-2.11.3-py2.py3-none-any.whl.metadata (1.5 kB)\n",
            "Requirement already satisfied: contourpy>=1.0.1 in /usr/local/lib/python3.10/dist-packages (from matplotlib>=2.2.3->chempy) (1.3.0)\n",
            "Requirement already satisfied: cycler>=0.10 in /usr/local/lib/python3.10/dist-packages (from matplotlib>=2.2.3->chempy) (0.12.1)\n",
            "Requirement already satisfied: fonttools>=4.22.0 in /usr/local/lib/python3.10/dist-packages (from matplotlib>=2.2.3->chempy) (4.54.1)\n",
            "Requirement already satisfied: kiwisolver>=1.0.1 in /usr/local/lib/python3.10/dist-packages (from matplotlib>=2.2.3->chempy) (1.4.7)\n",
            "Requirement already satisfied: packaging>=20.0 in /usr/local/lib/python3.10/dist-packages (from matplotlib>=2.2.3->chempy) (24.1)\n",
            "Requirement already satisfied: pillow>=6.2.0 in /usr/local/lib/python3.10/dist-packages (from matplotlib>=2.2.3->chempy) (10.4.0)\n",
            "Requirement already satisfied: python-dateutil>=2.7 in /usr/local/lib/python3.10/dist-packages (from matplotlib>=2.2.3->chempy) (2.8.2)\n",
            "Requirement already satisfied: notebook in /usr/local/lib/python3.10/dist-packages (from pyodesys>=0.14.4->chempy) (6.5.5)\n",
            "Requirement already satisfied: mpmath<1.4,>=1.1.0 in /usr/local/lib/python3.10/dist-packages (from sympy!=1.2,>=1.1.1->chempy) (1.3.0)\n",
            "Requirement already satisfied: six>=1.5 in /usr/local/lib/python3.10/dist-packages (from python-dateutil>=2.7->matplotlib>=2.2.3->chempy) (1.16.0)\n",
            "Requirement already satisfied: jinja2 in /usr/local/lib/python3.10/dist-packages (from notebook->pyodesys>=0.14.4->chempy) (3.1.4)\n",
            "Requirement already satisfied: tornado>=6.1 in /usr/local/lib/python3.10/dist-packages (from notebook->pyodesys>=0.14.4->chempy) (6.3.3)\n",
            "Requirement already satisfied: pyzmq<25,>=17 in /usr/local/lib/python3.10/dist-packages (from notebook->pyodesys>=0.14.4->chempy) (24.0.1)\n",
            "Requirement already satisfied: argon2-cffi in /usr/local/lib/python3.10/dist-packages (from notebook->pyodesys>=0.14.4->chempy) (23.1.0)\n",
            "Requirement already satisfied: traitlets>=4.2.1 in /usr/local/lib/python3.10/dist-packages (from notebook->pyodesys>=0.14.4->chempy) (5.7.1)\n",
            "Requirement already satisfied: jupyter-core>=4.6.1 in /usr/local/lib/python3.10/dist-packages (from notebook->pyodesys>=0.14.4->chempy) (5.7.2)\n",
            "Requirement already satisfied: jupyter-client<8,>=5.3.4 in /usr/local/lib/python3.10/dist-packages (from notebook->pyodesys>=0.14.4->chempy) (6.1.12)\n",
            "Requirement already satisfied: ipython-genutils in /usr/local/lib/python3.10/dist-packages (from notebook->pyodesys>=0.14.4->chempy) (0.2.0)\n",
            "Requirement already satisfied: nbformat in /usr/local/lib/python3.10/dist-packages (from notebook->pyodesys>=0.14.4->chempy) (5.10.4)\n",
            "Requirement already satisfied: nbconvert>=5 in /usr/local/lib/python3.10/dist-packages (from notebook->pyodesys>=0.14.4->chempy) (6.5.4)\n",
            "Requirement already satisfied: nest-asyncio>=1.5 in /usr/local/lib/python3.10/dist-packages (from notebook->pyodesys>=0.14.4->chempy) (1.6.0)\n",
            "Requirement already satisfied: ipykernel in /usr/local/lib/python3.10/dist-packages (from notebook->pyodesys>=0.14.4->chempy) (5.5.6)\n",
            "Requirement already satisfied: Send2Trash>=1.8.0 in /usr/local/lib/python3.10/dist-packages (from notebook->pyodesys>=0.14.4->chempy) (1.8.3)\n",
            "Requirement already satisfied: terminado>=0.8.3 in /usr/local/lib/python3.10/dist-packages (from notebook->pyodesys>=0.14.4->chempy) (0.18.1)\n",
            "Requirement already satisfied: prometheus-client in /usr/local/lib/python3.10/dist-packages (from notebook->pyodesys>=0.14.4->chempy) (0.21.0)\n",
            "Requirement already satisfied: nbclassic>=0.4.7 in /usr/local/lib/python3.10/dist-packages (from notebook->pyodesys>=0.14.4->chempy) (1.1.0)\n",
            "Requirement already satisfied: platformdirs>=2.5 in /usr/local/lib/python3.10/dist-packages (from jupyter-core>=4.6.1->notebook->pyodesys>=0.14.4->chempy) (4.3.6)\n",
            "Requirement already satisfied: notebook-shim>=0.2.3 in /usr/local/lib/python3.10/dist-packages (from nbclassic>=0.4.7->notebook->pyodesys>=0.14.4->chempy) (0.2.4)\n",
            "Requirement already satisfied: lxml in /usr/local/lib/python3.10/dist-packages (from nbconvert>=5->notebook->pyodesys>=0.14.4->chempy) (4.9.4)\n",
            "Requirement already satisfied: beautifulsoup4 in /usr/local/lib/python3.10/dist-packages (from nbconvert>=5->notebook->pyodesys>=0.14.4->chempy) (4.12.3)\n",
            "Requirement already satisfied: bleach in /usr/local/lib/python3.10/dist-packages (from nbconvert>=5->notebook->pyodesys>=0.14.4->chempy) (6.1.0)\n",
            "Requirement already satisfied: defusedxml in /usr/local/lib/python3.10/dist-packages (from nbconvert>=5->notebook->pyodesys>=0.14.4->chempy) (0.7.1)\n",
            "Requirement already satisfied: entrypoints>=0.2.2 in /usr/local/lib/python3.10/dist-packages (from nbconvert>=5->notebook->pyodesys>=0.14.4->chempy) (0.4)\n",
            "Requirement already satisfied: jupyterlab-pygments in /usr/local/lib/python3.10/dist-packages (from nbconvert>=5->notebook->pyodesys>=0.14.4->chempy) (0.3.0)\n",
            "Requirement already satisfied: MarkupSafe>=2.0 in /usr/local/lib/python3.10/dist-packages (from nbconvert>=5->notebook->pyodesys>=0.14.4->chempy) (3.0.1)\n",
            "Requirement already satisfied: mistune<2,>=0.8.1 in /usr/local/lib/python3.10/dist-packages (from nbconvert>=5->notebook->pyodesys>=0.14.4->chempy) (0.8.4)\n",
            "Requirement already satisfied: nbclient>=0.5.0 in /usr/local/lib/python3.10/dist-packages (from nbconvert>=5->notebook->pyodesys>=0.14.4->chempy) (0.10.0)\n",
            "Requirement already satisfied: pandocfilters>=1.4.1 in /usr/local/lib/python3.10/dist-packages (from nbconvert>=5->notebook->pyodesys>=0.14.4->chempy) (1.5.1)\n",
            "Requirement already satisfied: pygments>=2.4.1 in /usr/local/lib/python3.10/dist-packages (from nbconvert>=5->notebook->pyodesys>=0.14.4->chempy) (2.18.0)\n",
            "Requirement already satisfied: tinycss2 in /usr/local/lib/python3.10/dist-packages (from nbconvert>=5->notebook->pyodesys>=0.14.4->chempy) (1.3.0)\n",
            "Requirement already satisfied: fastjsonschema>=2.15 in /usr/local/lib/python3.10/dist-packages (from nbformat->notebook->pyodesys>=0.14.4->chempy) (2.20.0)\n",
            "Requirement already satisfied: jsonschema>=2.6 in /usr/local/lib/python3.10/dist-packages (from nbformat->notebook->pyodesys>=0.14.4->chempy) (4.23.0)\n",
            "Requirement already satisfied: ptyprocess in /usr/local/lib/python3.10/dist-packages (from terminado>=0.8.3->notebook->pyodesys>=0.14.4->chempy) (0.7.0)\n",
            "Requirement already satisfied: argon2-cffi-bindings in /usr/local/lib/python3.10/dist-packages (from argon2-cffi->notebook->pyodesys>=0.14.4->chempy) (21.2.0)\n",
            "Requirement already satisfied: ipython>=5.0.0 in /usr/local/lib/python3.10/dist-packages (from ipykernel->notebook->pyodesys>=0.14.4->chempy) (7.34.0)\n",
            "Requirement already satisfied: setuptools>=18.5 in /usr/local/lib/python3.10/dist-packages (from ipython>=5.0.0->ipykernel->notebook->pyodesys>=0.14.4->chempy) (75.1.0)\n",
            "Collecting jedi>=0.16 (from ipython>=5.0.0->ipykernel->notebook->pyodesys>=0.14.4->chempy)\n",
            "  Downloading jedi-0.19.1-py2.py3-none-any.whl.metadata (22 kB)\n",
            "Requirement already satisfied: decorator in /usr/local/lib/python3.10/dist-packages (from ipython>=5.0.0->ipykernel->notebook->pyodesys>=0.14.4->chempy) (4.4.2)\n",
            "Requirement already satisfied: pickleshare in /usr/local/lib/python3.10/dist-packages (from ipython>=5.0.0->ipykernel->notebook->pyodesys>=0.14.4->chempy) (0.7.5)\n",
            "Requirement already satisfied: prompt-toolkit!=3.0.0,!=3.0.1,<3.1.0,>=2.0.0 in /usr/local/lib/python3.10/dist-packages (from ipython>=5.0.0->ipykernel->notebook->pyodesys>=0.14.4->chempy) (3.0.48)\n",
            "Requirement already satisfied: backcall in /usr/local/lib/python3.10/dist-packages (from ipython>=5.0.0->ipykernel->notebook->pyodesys>=0.14.4->chempy) (0.2.0)\n",
            "Requirement already satisfied: matplotlib-inline in /usr/local/lib/python3.10/dist-packages (from ipython>=5.0.0->ipykernel->notebook->pyodesys>=0.14.4->chempy) (0.1.7)\n",
            "Requirement already satisfied: pexpect>4.3 in /usr/local/lib/python3.10/dist-packages (from ipython>=5.0.0->ipykernel->notebook->pyodesys>=0.14.4->chempy) (4.9.0)\n",
            "Requirement already satisfied: attrs>=22.2.0 in /usr/local/lib/python3.10/dist-packages (from jsonschema>=2.6->nbformat->notebook->pyodesys>=0.14.4->chempy) (24.2.0)\n",
            "Requirement already satisfied: jsonschema-specifications>=2023.03.6 in /usr/local/lib/python3.10/dist-packages (from jsonschema>=2.6->nbformat->notebook->pyodesys>=0.14.4->chempy) (2024.10.1)\n",
            "Requirement already satisfied: referencing>=0.28.4 in /usr/local/lib/python3.10/dist-packages (from jsonschema>=2.6->nbformat->notebook->pyodesys>=0.14.4->chempy) (0.35.1)\n",
            "Requirement already satisfied: rpds-py>=0.7.1 in /usr/local/lib/python3.10/dist-packages (from jsonschema>=2.6->nbformat->notebook->pyodesys>=0.14.4->chempy) (0.20.0)\n",
            "Requirement already satisfied: jupyter-server<3,>=1.8 in /usr/local/lib/python3.10/dist-packages (from notebook-shim>=0.2.3->nbclassic>=0.4.7->notebook->pyodesys>=0.14.4->chempy) (1.24.0)\n",
            "Requirement already satisfied: cffi>=1.0.1 in /usr/local/lib/python3.10/dist-packages (from argon2-cffi-bindings->argon2-cffi->notebook->pyodesys>=0.14.4->chempy) (1.17.1)\n",
            "Requirement already satisfied: soupsieve>1.2 in /usr/local/lib/python3.10/dist-packages (from beautifulsoup4->nbconvert>=5->notebook->pyodesys>=0.14.4->chempy) (2.6)\n",
            "Requirement already satisfied: webencodings in /usr/local/lib/python3.10/dist-packages (from bleach->nbconvert>=5->notebook->pyodesys>=0.14.4->chempy) (0.5.1)\n",
            "Requirement already satisfied: pycparser in /usr/local/lib/python3.10/dist-packages (from cffi>=1.0.1->argon2-cffi-bindings->argon2-cffi->notebook->pyodesys>=0.14.4->chempy) (2.22)\n",
            "Requirement already satisfied: parso<0.9.0,>=0.8.3 in /usr/local/lib/python3.10/dist-packages (from jedi>=0.16->ipython>=5.0.0->ipykernel->notebook->pyodesys>=0.14.4->chempy) (0.8.4)\n",
            "Requirement already satisfied: anyio<4,>=3.1.0 in /usr/local/lib/python3.10/dist-packages (from jupyter-server<3,>=1.8->notebook-shim>=0.2.3->nbclassic>=0.4.7->notebook->pyodesys>=0.14.4->chempy) (3.7.1)\n",
            "Requirement already satisfied: websocket-client in /usr/local/lib/python3.10/dist-packages (from jupyter-server<3,>=1.8->notebook-shim>=0.2.3->nbclassic>=0.4.7->notebook->pyodesys>=0.14.4->chempy) (1.8.0)\n",
            "Requirement already satisfied: wcwidth in /usr/local/lib/python3.10/dist-packages (from prompt-toolkit!=3.0.0,!=3.0.1,<3.1.0,>=2.0.0->ipython>=5.0.0->ipykernel->notebook->pyodesys>=0.14.4->chempy) (0.2.13)\n",
            "Requirement already satisfied: idna>=2.8 in /usr/local/lib/python3.10/dist-packages (from anyio<4,>=3.1.0->jupyter-server<3,>=1.8->notebook-shim>=0.2.3->nbclassic>=0.4.7->notebook->pyodesys>=0.14.4->chempy) (3.10)\n",
            "Requirement already satisfied: sniffio>=1.1 in /usr/local/lib/python3.10/dist-packages (from anyio<4,>=3.1.0->jupyter-server<3,>=1.8->notebook-shim>=0.2.3->nbclassic>=0.4.7->notebook->pyodesys>=0.14.4->chempy) (1.3.1)\n",
            "Requirement already satisfied: exceptiongroup in /usr/local/lib/python3.10/dist-packages (from anyio<4,>=3.1.0->jupyter-server<3,>=1.8->notebook-shim>=0.2.3->nbclassic>=0.4.7->notebook->pyodesys>=0.14.4->chempy) (1.2.2)\n",
            "Downloading dot2tex-2.11.3-py2.py3-none-any.whl (36 kB)\n",
            "Downloading PuLP-2.9.0-py3-none-any.whl (17.7 MB)\n",
            "\u001b[2K   \u001b[90m━━━━━━━━━━━━━━━━━━━━━━━━━━━━━━━━━━━━━━━━\u001b[0m \u001b[32m17.7/17.7 MB\u001b[0m \u001b[31m81.6 MB/s\u001b[0m eta \u001b[36m0:00:00\u001b[0m\n",
            "\u001b[?25hDownloading quantities-0.16.1-py3-none-any.whl (102 kB)\n",
            "\u001b[2K   \u001b[90m━━━━━━━━━━━━━━━━━━━━━━━━━━━━━━━━━━━━━━━━\u001b[0m \u001b[32m102.4/102.4 kB\u001b[0m \u001b[31m9.3 MB/s\u001b[0m eta \u001b[36m0:00:00\u001b[0m\n",
            "\u001b[?25hDownloading jedi-0.19.1-py2.py3-none-any.whl (1.6 MB)\n",
            "\u001b[2K   \u001b[90m━━━━━━━━━━━━━━━━━━━━━━━━━━━━━━━━━━━━━━━━\u001b[0m \u001b[32m1.6/1.6 MB\u001b[0m \u001b[31m60.8 MB/s\u001b[0m eta \u001b[36m0:00:00\u001b[0m\n",
            "\u001b[?25hBuilding wheels for collected packages: chempy, pyneqsys, pyodesys, sym\n",
            "  Building wheel for chempy (setup.py) ... \u001b[?25l\u001b[?25hdone\n",
            "  Created wheel for chempy: filename=chempy-0.9.0-py2.py3-none-any.whl size=210812 sha256=d27658d3b16301a50063f497ec9f3410a3ab4965be294562840b94fd7f06c3b9\n",
            "  Stored in directory: /root/.cache/pip/wheels/67/6a/c8/0b931e3c1c6c4e620af52ab72afb8377af84307fc715d3d72b\n",
            "  Building wheel for pyneqsys (setup.py) ... \u001b[?25l\u001b[?25hdone\n",
            "  Created wheel for pyneqsys: filename=pyneqsys-0.5.7-py2.py3-none-any.whl size=27262 sha256=c58401cbdb59418bee8dcb74b9621eb93983be4ed0abb6937eabd7cae848475b\n",
            "  Stored in directory: /root/.cache/pip/wheels/63/9e/0f/f0e239f188774c6772dd98f3979e5aa53af04922d8411b9f13\n",
            "  Building wheel for pyodesys (setup.py) ... \u001b[?25l\u001b[?25hdone\n",
            "  Created wheel for pyodesys: filename=pyodesys-0.14.4-py2.py3-none-any.whl size=122421 sha256=c09eaa4bef8b6fe577db396a7049bd45ac1bf8cb508a48fa6214bafbbf92c6cf\n",
            "  Stored in directory: /root/.cache/pip/wheels/8d/29/ae/a1765fc3cbe04b492b4153d1b6af9f86eba764c2a0fd2b6f6e\n",
            "  Building wheel for sym (setup.py) ... \u001b[?25l\u001b[?25hdone\n",
            "  Created wheel for sym: filename=sym-0.3.5-py2.py3-none-any.whl size=21076 sha256=4cad4b2623db7c09a9f8409c0b981ebcacf9996e3973b2d5f2b33c2a3011cbda\n",
            "  Stored in directory: /root/.cache/pip/wheels/12/14/fc/fe00b0a0a15ebb7e14cc7dab8da24312d43794fb304a002f2a\n",
            "Successfully built chempy pyneqsys pyodesys sym\n",
            "Installing collected packages: sym, quantities, pulp, jedi, dot2tex, pyneqsys, pyodesys, chempy\n",
            "Successfully installed chempy-0.9.0 dot2tex-2.11.3 jedi-0.19.1 pulp-2.9.0 pyneqsys-0.5.7 pyodesys-0.14.4 quantities-0.16.1 sym-0.3.5\n"
          ]
        }
      ]
    },
    {
      "cell_type": "markdown",
      "source": [
        "\n",
        "1. Calculate Molar Mass\n"
      ],
      "metadata": {
        "id": "-UwA8fBIZc_I"
      }
    },
    {
      "source": [
        "from chempy import Substance\n",
        "import quantities as q\n",
        "\n",
        "def calculate_substance_properties(formula):\n",
        "  \"\"\"Calculates and prints properties of a chemical substance.\n",
        "\n",
        "  Args:\n",
        "    formula: The chemical formula of the substance (e.g., 'Fe(CN)6-3').\n",
        "\n",
        "  Returns:\n",
        "    None. substance's unicode name and molar mass in g/mol.\n",
        "  \"\"\"\n",
        "  substance = Substance.from_formula(formula)\n",
        "  mass_with_units = substance.mass * q.gram / q.mol  # Store mass with units\n",
        "\n",
        "  return(substance.unicode_name, mass_with_units)\n",
        "\n",
        "\n",
        "# Example usage:\n",
        "chemical_formula = \"H2SO4\"\n",
        "\n",
        "unicode_formula, molar_mass = calculate_substance_properties(chemical_formula)\n",
        "print(\"Unicode formula: %s\" %(unicode_formula))\n",
        "print(\"Molar mass: %s\" %(molar_mass))"
      ],
      "cell_type": "code",
      "metadata": {
        "colab": {
          "base_uri": "https://localhost:8080/"
        },
        "id": "wDbBbfm7bWrh",
        "outputId": "23d0a1f6-4e29-4dd2-8b2c-ca96b45ca1ad"
      },
      "execution_count": 17,
      "outputs": [
        {
          "output_type": "stream",
          "name": "stdout",
          "text": [
            "Unicode formula: H₂SO₄\n",
            "Molar mass: 98.072 g/mol\n"
          ]
        }
      ]
    },
    {
      "cell_type": "markdown",
      "source": [
        "2. Balance Chemical Equation\n"
      ],
      "metadata": {
        "id": "zH8hK4ENZfZ6"
      }
    },
    {
      "cell_type": "code",
      "execution_count": 35,
      "metadata": {
        "colab": {
          "base_uri": "https://localhost:8080/"
        },
        "id": "YAqZViHcZFVW",
        "outputId": "6c89caab-e71e-476e-b6a2-7928f87ffbfa"
      },
      "outputs": [
        {
          "output_type": "stream",
          "name": "stdout",
          "text": [
            "2 H2 + 1 O2 -> 2 H2O\n"
          ]
        }
      ],
      "source": [
        "from chempy import balance_stoichiometry\n",
        "from chempy import Substance\n",
        "import quantities as q\n",
        "\n",
        "def balance_chemical_equation(reaction_string):\n",
        "    \"\"\"\n",
        "    Balances a chemical equation using chempy.\n",
        "\n",
        "    Parameters:\n",
        "    reaction_string (str): A string representing the chemical equation, e.g., \"H2 + O2 -> H2O\".\n",
        "\n",
        "    Returns:\n",
        "    str: A string representing the balanced chemical equation or an error message if balancing fails.\n",
        "    \"\"\"\n",
        "    try:\n",
        "        # Parse reactants and products and split by \"->\"\n",
        "        reactants_str, products_str = reaction_string.split(\"->\")\n",
        "        reactants_str = reactants_str.strip()\n",
        "        products_str = products_str.strip()\n",
        "\n",
        "        # Parse reactants by \"+\" and coefficients by spaces\n",
        "        reactants = {}\n",
        "        for part in reactants_str.split(\"+\"):\n",
        "            part = part.strip()\n",
        "            if part:\n",
        "                if \" \" in part:\n",
        "                    coeff, molecule = part.split()\n",
        "                    reactants[molecule] = int(coeff)\n",
        "                else:\n",
        "                    reactants[part] = 1\n",
        "\n",
        "        # Parse products by \"+\" and coefficients by spaces\n",
        "        products = {}\n",
        "        for part in products_str.split(\"+\"):\n",
        "            part = part.strip()\n",
        "            if part:\n",
        "                if \" \" in part:\n",
        "                    coeff, molecule = part.split()\n",
        "                    products[molecule] = int(coeff)\n",
        "                else:\n",
        "                    products[part] = 1\n",
        "\n",
        "        reactants, products = balance_stoichiometry(reactants, products)\n",
        "\n",
        "        balanced_reaction_string = \" + \".join([f\"{coeff}{' '}{molecule}\" for molecule, coeff in reactants.items()]) \\\n",
        "                                  + \" -> \" \\\n",
        "                                  + \" + \".join([f\"{coeff}{' '}{molecule}\" for molecule, coeff in products.items()])\n",
        "\n",
        "        return balanced_reaction_string\n",
        "\n",
        "    except Exception as e:\n",
        "        return f\"Error balancing equation: {e}\"\n",
        "\n",
        "# Example usage:\n",
        "reaction_string = \"3 H2 + O2 -> H2O\"\n",
        "balanced_reaction_string = balance_chemical_equation(reaction_string)\n",
        "\n",
        "print(balanced_reaction_string)"
      ]
    },
    {
      "cell_type": "markdown",
      "source": [
        "3. Chemical Equilibria"
      ],
      "metadata": {
        "id": "Ei1JxTzhZhEB"
      }
    },
    {
      "cell_type": "code",
      "source": [
        "from collections import defaultdict\n",
        "from chempy.equilibria import EqSystem\n",
        "from math import log10\n",
        "\n",
        "def calculate_equilibrium_and_ph(initial_concentrations, equilibrium_expression):\n",
        "    \"\"\"\n",
        "    Calculate equilibrium concentrations and pH from given initial concentrations and equilibrium expression.\n",
        "\n",
        "    Parameters:\n",
        "    initial_concentrations (dict): A dictionary containing the initial concentrations of all species involved in the equilibrium.\n",
        "    equilibrium_expression (str): The equilibrium expression in the format 'A = B + C; K'.\n",
        "\n",
        "    Returns:\n",
        "    dict: A dictionary containing the equilibrium concentrations of all species.\n",
        "    float: The pH of the solution.\n",
        "    float: The H+ concentration at equilibrium.\n",
        "    \"\"\"\n",
        "    # Define the equilibrium system\n",
        "    eqsys = EqSystem.from_string(equilibrium_expression)\n",
        "\n",
        "    # Solve for equilibrium concentrations\n",
        "    arr, info, sane = eqsys.root(initial_concentrations)\n",
        "    conc = dict(zip(eqsys.substances, arr))\n",
        "\n",
        "    # Calculate pH and H+ concentration\n",
        "    pH = -log10(conc['H+'])\n",
        "    h_concentration = conc['H+']\n",
        "\n",
        "    return conc, pH, h_concentration\n",
        "\n",
        "# Example usage:\n",
        "initial_conditions = defaultdict(float, {'HC2H3O2': 0.2, 'H+': 1e-7, 'C2H3O2-': 0.1})\n",
        "equilibrium_eq = \"HC2H3O2 = H+ + C2H3O2-; 1.8*10**-5\"\n",
        "equilibrium_concentrations, pH_value, h_plus_concentration = calculate_equilibrium_and_ph(initial_conditions, equilibrium_eq)\n",
        "\n",
        "print(\"Equilibrium Concentrations:\", equilibrium_concentrations)\n",
        "print(\"pH: %.2f\" % pH_value)\n",
        "print(\"H+ concentration: %.2e\" % h_plus_concentration)"
      ],
      "metadata": {
        "colab": {
          "base_uri": "https://localhost:8080/"
        },
        "id": "vnLg97VffTPI",
        "outputId": "5f2f9a32-3799-4da1-efb7-90f6a784b646"
      },
      "execution_count": 34,
      "outputs": [
        {
          "output_type": "stream",
          "name": "stdout",
          "text": [
            "Equilibrium Concentrations: {'C2H3O2-': 0.10003588063140861, 'H+': 3.598063140861223e-05, 'HC2H3O2': 0.1999641193685914}\n",
            "pH: 4.44\n",
            "H+ concentration: 3.60e-05\n"
          ]
        }
      ]
    },
    {
      "cell_type": "markdown",
      "source": [
        "***"
      ],
      "metadata": {
        "id": "o69d1QQ_ZiEe"
      }
    }
  ]
}